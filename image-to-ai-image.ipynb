import gradio as gr
import requests
import base64
import random
import io
from PIL import Image

# Define your functions here
def getbase64image(image):
    buffered = io.BytesIO()
    image.save(buffered, format="JPEG")
    return base64.b64encode(buffered.getvalue()).decode('utf-8')

def getImageCaption(b64image):
    chatgpt_payload = {
    "model":"gpt-4-vision-preview",
    "messages":[
      {
        "role": "user",
        "content": [
          {"type": "text", "text": "Create a concise yet fully descriptive one sentence caption for the image to use on a Stock Photo Website"},
          {
            "type": "image_url",
            "image_url": {
              "url": f"data:image/jpeg;base64,{b64image}",
            },
          },
        ],
      }
    ],
    "max_tokens":300,
    }

    # Make the request to OpenAI's API
    response = requests.post(chatgpt_url, json=chatgpt_payload, headers=chatgpt_headers)
    response_json = response.json()
    caption = response_json['choices'][0]['message']['content']
    return caption


def generate_images(base64image, imagecaption, count):
    SegmindAPIKey = userdata.get('Segmind')
    url = "https://api.segmind.com/v1/ssd-img2img"
    generated_image_filenames = []

    for i in range(count):
        currentseed = random.randint(1000, 1000000)

        # Request payload
        data = {
            "image": base64image,
            "prompt": imagecaption + ", stock photo",
            "negative_prompt": "ugly, tiling, poorly drawn hands, poorly drawn feet, poorly drawn face, out of frame, extra limbs, disfigured, deformed, body out of frame, blurry, bad anatomy, blurred, watermark, grainy, signature, cut off, draft",
            "samples": 1,
            "scheduler": "UniPC",
            "num_inference_steps": 30,
            "guidance_scale": "7.5",
            "seed": currentseed,
            "strength": "0.9",
            "base64": False
        }

        response = requests.post(url, json=data, headers={'x-api-key': SegmindAPIKey})

        if response.status_code == 200 and response.headers.get('content-type') == 'image/jpeg':
            image_data = response.content
            image = Image.open(io.BytesIO(image_data))
            image_filename = f"image{i + 1}.jpg"
            image.save(image_filename)
            generated_image_filenames.append(image_filename)

    return generated_image_filenames

def process_image(uploaded_image, count):
    base64image = getbase64image(uploaded_image)
    #imagecaption = getImageCaption(base64image).strip('\"')
    imagecaption = ''
    generated_images = generate_images(base64image, imagecaption, count)
    return imagecaption, generated_images


# Gradio interface
with gr.Blocks() as app:
    gr.Markdown("## 1-Click Similar Image Generator using AI")
    gr.Markdown("Upload an image to generate similar images using AI.")
    
    with gr.Row():
        with gr.Column():
            image_input = gr.Image(type="pil")
            count_dropdown = gr.Dropdown(label="Number of Images", choices=[1, 2, 3, 4, 5],value=3)
            btn_genererate_images = gr.Button('Generate Images')
        with gr.Column():
            gallery = gr.Gallery(label="images", columns=3,preview=True,allow_preview=True,show_download_button=True)
            textbox = gr.Textbox(label = "AI Generated Caption")

    btn_genererate_images.click(fn=process_image, inputs=[image_input, count_dropdown], outputs=[textbox,gallery])

# Run the app
app.launch(debug=True)
